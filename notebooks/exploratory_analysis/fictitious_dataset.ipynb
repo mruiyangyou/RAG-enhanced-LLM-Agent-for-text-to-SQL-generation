{
 "cells": [
  {
   "cell_type": "code",
   "execution_count": null,
   "metadata": {},
   "outputs": [],
   "source": [
    "from faker import Faker\n",
    "import random\n",
    "import datetime\n",
    "import pandas as pd\n",
    "import numpy as np"
   ]
  },
  {
   "cell_type": "code",
   "execution_count": 8,
   "metadata": {},
   "outputs": [
    {
     "data": {
      "text/plain": [
       "([(5008, 'Heather Guerrero', 'London', 0.14),\n",
       "  (5009, 'James Steele', 'Rome', 0.12),\n",
       "  (5010, 'Frank Jensen', 'New York', 0.15),\n",
       "  (5011, 'Olivia Mason', 'California', 0.13),\n",
       "  (5012, 'Melinda Hudson', 'Moscow', 0.11)],\n",
       " [(3010, 'David Baker', 'Berlin', 220, 5024),\n",
       "  (3011, 'Catherine Murphy', 'San Jose', 300, 5033),\n",
       "  (3012, 'Javier Moore', 'New York', 100, 5049),\n",
       "  (3013, 'Willie Horton', 'Rome', None, 5026),\n",
       "  (3014, 'Nancy Larsen', 'London', 300, 5011)],\n",
       " [(70014, 2608.23, '2012-02-23', 3033, 5015),\n",
       "  (70015, 4357.38, '2012-02-19', 3059, 5031),\n",
       "  (70016, 2051.01, '2012-12-25', 3037, 5033),\n",
       "  (70017, 230.46, '2012-04-05', 3011, 5033),\n",
       "  (70018, 1812.19, '2012-09-09', 3009, 5003)])"
      ]
     },
     "execution_count": 8,
     "metadata": {},
     "output_type": "execute_result"
    }
   ],
   "source": [
    "\n",
    "# Initialize Faker\n",
    "fake = Faker()\n",
    "\n",
    "# Define base data based on the existing entries\n",
    "salesman_ids = [5001, 5002, 5005, 5006, 5007, 5003]\n",
    "customer_ids = [3002, 3007, 3005, 3008, 3004, 3009, 3003, 3001]\n",
    "order_numbers = [70001, 70009, 70002, 70004, 70007, 70005, 70008, 70010, 70003, 70012, 70011, 70013]\n",
    "cities = [\"New York\", \"Paris\", \"London\", \"San Jose\", \"Rome\", \"California\", \"Berlin\", \"Moscow\"]\n",
    "grades = [100, 200, 300, None]\n",
    "\n",
    "# Generate data for each table\n",
    "def generate_salesman_data(num):\n",
    "    salesman_data = []\n",
    "    for _ in range(num):\n",
    "        salesman_id = max(salesman_ids) + 1\n",
    "        name = fake.name()\n",
    "        city = random.choice(cities)\n",
    "        commission = round(random.uniform(0.1, 0.15), 2)\n",
    "        salesman_ids.append(salesman_id)\n",
    "        salesman_data.append((salesman_id, name, city, commission))\n",
    "    return salesman_data\n",
    "\n",
    "def generate_customer_data(num):\n",
    "    customer_data = []\n",
    "    for _ in range(num):\n",
    "        customer_id = max(customer_ids) + 1\n",
    "        cust_name = fake.name()\n",
    "        city = random.choice(cities)\n",
    "        grade = random.choice(grades + [fake.random_int(min=100, max=300)])\n",
    "        salesman_id = random.choice(salesman_ids)\n",
    "        customer_ids.append(customer_id)\n",
    "        customer_data.append((customer_id, cust_name, city, grade, salesman_id))\n",
    "    return customer_data\n",
    "\n",
    "def generate_orders_data(num):\n",
    "    orders_data = []\n",
    "    for _ in range(num):\n",
    "        ord_no = max(order_numbers) + 1\n",
    "        purch_amt = round(random.uniform(50, 5000), 2)\n",
    "        ord_date = fake.date_between(start_date=datetime.date(2012,1,5), end_date=datetime.date(2013,10,5))\n",
    "        ord_date = ord_date.strftime('%Y-%m-%d')\n",
    "        customer_id = random.choice(customer_ids)\n",
    "        salesman_id = random.choice(salesman_ids)\n",
    "        order_numbers.append(ord_no)\n",
    "        orders_data.append((ord_no, purch_amt, ord_date, customer_id, salesman_id))\n",
    "    return orders_data\n",
    "\n",
    "# Generate the datasets\n",
    "salesman_data = generate_salesman_data(50)\n",
    "customer_data = generate_customer_data(50)\n",
    "orders_data = generate_orders_data(50)\n",
    "\n",
    "# Output first 5 rows of each to check\n",
    "salesman_data[:5], customer_data[:5], orders_data[:5]\n"
   ]
  },
  {
   "cell_type": "code",
   "execution_count": 2,
   "metadata": {},
   "outputs": [],
   "source": [
    "# df = pd.read_csv('small_dataset/inventory_test.csv')\n",
    "# df"
   ]
  }
 ],
 "metadata": {
  "kernelspec": {
   "display_name": "Python 3",
   "language": "python",
   "name": "python3"
  },
  "language_info": {
   "codemirror_mode": {
    "name": "ipython",
    "version": 3
   },
   "file_extension": ".py",
   "mimetype": "text/x-python",
   "name": "python",
   "nbconvert_exporter": "python",
   "pygments_lexer": "ipython3",
   "version": "3.10.5"
  }
 },
 "nbformat": 4,
 "nbformat_minor": 2
}
